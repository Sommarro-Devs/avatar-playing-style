{
 "cells": [
  {
   "cell_type": "markdown",
   "metadata": {},
   "source": [
    "# Notebook Model v.2\n",
    "\n",
    "## Content:\n",
    "1. [Imports](#Imports)\n",
    "2. [Read data](#Read_data)\n",
    "3. [Inputs](#Inputs)\n",
    "4. [Modelling](#Modelling)\n",
    "5. [Results](#Results)\n",
    "\n",
    "\n",
    "## Summary\n",
    "Given a football player $u$ with match event data and team possession data we want to detect its playing style $y(pos_{u})$, where $y(pos_{u}) \\in \\{Offensive, Defensive\\}$, for the detected playing position $pos_{u}$. This can be formulated as a binary classification problem where we want to classify all available football players $\\mathbf{u}$ from the data into the two groups $\\{Offensive, Defensive\\}$.\n",
    "The classification is also position dependent, therefore each position $pos \\in \\{ST, CM, OW, FB, CB\\}$ (goalkeeper group neglected as explained in Section \\ref{sec_Limitations}) should have its own classifier within that position group. "
   ]
  },
  {
   "cell_type": "markdown",
   "metadata": {},
   "source": [
    "## 1. Imports <a class=\"anchor\" id=\"Imports\"></a>"
   ]
  },
  {
   "cell_type": "code",
   "execution_count": 14,
   "metadata": {},
   "outputs": [],
   "source": [
    "# Basics\n",
    "import pandas as pd\n",
    "\n",
    "# Project module\n",
    "import modules.validation_lib as validate\n",
    "from modules.models_lib import model_off_def"
   ]
  },
  {
   "cell_type": "markdown",
   "metadata": {},
   "source": [
    "## 2. Read data <a class=\"anchor\" id=\"Read_data\"></a>\n",
    "\n",
    "As inputs to the model there is the processed and filtered off/def actions KPI-data found in the data directory. \n",
    "\n",
    "We also import here the model kpi data (mainly used for Model v.2). This is only done in order to reach the detected positions for each player which exists in this .xlsx-file."
   ]
  },
  {
   "cell_type": "code",
   "execution_count": 15,
   "metadata": {},
   "outputs": [],
   "source": [
    "# Read model KPI dataframe from PL\n",
    "df_model_KPI_PL = pd.read_excel('../data/model_kpis_PL21-22.xlsx')\n",
    "\n",
    "# Read model KPI dataframe from Allsvenskan, Sweden\n",
    "df_model_KPI_Swe = pd.read_excel('../data/model_kpis_Swe21.xlsx')\n",
    "\n",
    "# Read off/def KPI dataframe from PL\n",
    "df_KPI_off_def_PL = pd.read_excel('../data/off_def_kpis_PL21-22.xlsx')\n",
    "\n",
    "# Read off/def KPI dataframe from Allsvenskan, Sweden\n",
    "df_KPI_off_def_Swe = pd.read_excel('../data/off_def_kpis_Swe21.xlsx')\n",
    "\n",
    "# Read validation data, (this model is validated against validation data set v.1, as in the report)\n",
    "df_validation = pd.read_excel('../data/validation_data_v1.xlsx')\n"
   ]
  },
  {
   "cell_type": "markdown",
   "metadata": {},
   "source": [
    "## 3. Inputs <a class=\"anchor\" id=\"Inputs\"></a>"
   ]
  },
  {
   "cell_type": "code",
   "execution_count": 16,
   "metadata": {},
   "outputs": [],
   "source": [
    "# Choose league to validate\n",
    "# league = 'PL'\n",
    "# league = 'Swe'\n",
    "league = 'both'\n",
    "\n",
    "\n",
    "# parameter settings for Model v.2\n",
    "position_quantile_mapper = {\n",
    "    'ST': 0.25,\n",
    "    'CM': 0.25,\n",
    "    'OW': 0.3,\n",
    "    'FB': 0.4,\n",
    "    'CB': 0.7\n",
    "    }\n"
   ]
  },
  {
   "cell_type": "markdown",
   "metadata": {},
   "source": [
    "Handle inputs"
   ]
  },
  {
   "cell_type": "code",
   "execution_count": 17,
   "metadata": {},
   "outputs": [],
   "source": [
    "# Call to base case model depending on chosen league\n",
    "df_KPI_off_def = pd.DataFrame()\n",
    "df_model_KPI = pd.DataFrame()\n",
    "\n",
    "if league == 'PL':\n",
    "    df_KPI_off_def = df_KPI_off_def_PL\n",
    "    df_model_KPI = df_model_KPI_PL\n",
    "elif league == 'Swe':\n",
    "    df_KPI_off_def = df_KPI_off_def_Swe\n",
    "    df_model_KPI = df_model_KPI_Swe\n",
    "elif league == 'both':\n",
    "    df_KPI_off_def = pd.concat([df_KPI_off_def_PL, df_KPI_off_def_Swe])\n",
    "    df_model_KPI = pd.concat([df_model_KPI_PL, df_model_KPI_Swe])\n",
    "else: \n",
    "    print(\"WRONG INPUT\")"
   ]
  },
  {
   "cell_type": "markdown",
   "metadata": {},
   "source": [
    "## 4. Modelling <a class=\"anchor\" id=\"Modelling\"></a>\n",
    "Each player gets classified as either an Offensive or a Defensive player by using quantile classification with the quantile input argument q as position dependent, i.e.\n",
    "q = q(pos). Thus, the classifier can be tuned with the parameter q(pos) for each position independently."
   ]
  },
  {
   "cell_type": "code",
   "execution_count": 18,
   "metadata": {},
   "outputs": [],
   "source": [
    "df_model_result = model_off_def(df_KPI_off_def, df_model_KPI, position_quantile_mapper)\n"
   ]
  },
  {
   "cell_type": "markdown",
   "metadata": {},
   "source": [
    "## 5. Results <a class=\"anchor\" id=\"Results\"></a>\n",
    "See the confusion matrix and class metrics results for each position validated against the validation data set v.1"
   ]
  },
  {
   "cell_type": "code",
   "execution_count": 20,
   "metadata": {},
   "outputs": [
    {
     "name": "stdout",
     "output_type": "stream",
     "text": [
      "============== Result position ST ==============\n",
      "\n",
      "Confusion matrix result Off/Def classification: \n",
      "\n",
      "+------------+-------------+-------------+-----------+\n",
      "|            |   Offensive |   Defensive |   #actual |\n",
      "+============+=============+=============+===========+\n",
      "| Offensive  |          49 |          18 |        67 |\n",
      "+------------+-------------+-------------+-----------+\n",
      "| Defensive  |          10 |           8 |        18 |\n",
      "+------------+-------------+-------------+-----------+\n",
      "| #predicted |          59 |          26 |        85 |\n",
      "+------------+-------------+-------------+-----------+\n",
      "Confusion matrix class metrics for Off/Def classification: \n",
      "\n",
      "Total accuracy: 0.67\n",
      "+-----------+-------------+----------+---------------+------------+\n",
      "|           |   precision |   recall |   specificity |   F1-score |\n",
      "+===========+=============+==========+===============+============+\n",
      "| Offensive |        0.73 |     0.83 |          0.31 |       0.78 |\n",
      "+-----------+-------------+----------+---------------+------------+\n",
      "| Defensive |        0.44 |     0.31 |          0.83 |       0.36 |\n",
      "+-----------+-------------+----------+---------------+------------+\n",
      "==============  ==============\n",
      "\n",
      "\n",
      "============== Result position CM ==============\n",
      "\n",
      "Confusion matrix result Off/Def classification: \n",
      "\n",
      "+------------+-------------+-------------+-----------+\n",
      "|            |   Offensive |   Defensive |   #actual |\n",
      "+============+=============+=============+===========+\n",
      "| Offensive  |          64 |          34 |        98 |\n",
      "+------------+-------------+-------------+-----------+\n",
      "| Defensive  |          33 |           3 |        36 |\n",
      "+------------+-------------+-------------+-----------+\n",
      "| #predicted |          97 |          37 |       134 |\n",
      "+------------+-------------+-------------+-----------+\n",
      "Confusion matrix class metrics for Off/Def classification: \n",
      "\n",
      "Total accuracy: 0.5\n",
      "+-----------+-------------+----------+---------------+------------+\n",
      "|           |   precision |   recall |   specificity |   F1-score |\n",
      "+===========+=============+==========+===============+============+\n",
      "| Offensive |        0.65 |     0.66 |          0.08 |       0.66 |\n",
      "+-----------+-------------+----------+---------------+------------+\n",
      "| Defensive |        0.08 |     0.08 |          0.66 |       0.08 |\n",
      "+-----------+-------------+----------+---------------+------------+\n",
      "==============  ==============\n",
      "\n",
      "\n",
      "============== Result position OW ==============\n",
      "\n",
      "Confusion matrix result Off/Def classification: \n",
      "\n",
      "+------------+-------------+-------------+-----------+\n",
      "|            |   Offensive |   Defensive |   #actual |\n",
      "+============+=============+=============+===========+\n",
      "| Offensive  |          46 |          17 |        63 |\n",
      "+------------+-------------+-------------+-----------+\n",
      "| Defensive  |          14 |          11 |        25 |\n",
      "+------------+-------------+-------------+-----------+\n",
      "| #predicted |          60 |          28 |        88 |\n",
      "+------------+-------------+-------------+-----------+\n",
      "Confusion matrix class metrics for Off/Def classification: \n",
      "\n",
      "Total accuracy: 0.65\n",
      "+-----------+-------------+----------+---------------+------------+\n",
      "|           |   precision |   recall |   specificity |   F1-score |\n",
      "+===========+=============+==========+===============+============+\n",
      "| Offensive |        0.73 |     0.77 |          0.39 |       0.75 |\n",
      "+-----------+-------------+----------+---------------+------------+\n",
      "| Defensive |        0.44 |     0.39 |          0.77 |       0.42 |\n",
      "+-----------+-------------+----------+---------------+------------+\n",
      "==============  ==============\n",
      "\n",
      "\n",
      "============== Result position FB ==============\n",
      "\n",
      "Confusion matrix result Off/Def classification: \n",
      "\n",
      "+------------+-------------+-------------+-----------+\n",
      "|            |   Offensive |   Defensive |   #actual |\n",
      "+============+=============+=============+===========+\n",
      "| Offensive  |          40 |          14 |        54 |\n",
      "+------------+-------------+-------------+-----------+\n",
      "| Defensive  |          17 |          17 |        34 |\n",
      "+------------+-------------+-------------+-----------+\n",
      "| #predicted |          57 |          31 |        88 |\n",
      "+------------+-------------+-------------+-----------+\n",
      "Confusion matrix class metrics for Off/Def classification: \n",
      "\n",
      "Total accuracy: 0.65\n",
      "+-----------+-------------+----------+---------------+------------+\n",
      "|           |   precision |   recall |   specificity |   F1-score |\n",
      "+===========+=============+==========+===============+============+\n",
      "| Offensive |        0.74 |     0.7  |          0.55 |       0.72 |\n",
      "+-----------+-------------+----------+---------------+------------+\n",
      "| Defensive |        0.5  |     0.55 |          0.7  |       0.52 |\n",
      "+-----------+-------------+----------+---------------+------------+\n",
      "==============  ==============\n",
      "\n",
      "\n",
      "============== Result position CB ==============\n",
      "\n",
      "Confusion matrix result Off/Def classification: \n",
      "\n",
      "+------------+-------------+-------------+-----------+\n",
      "|            |   Offensive |   Defensive |   #actual |\n",
      "+============+=============+=============+===========+\n",
      "| Offensive  |          13 |          21 |        34 |\n",
      "+------------+-------------+-------------+-----------+\n",
      "| Defensive  |          25 |          69 |        94 |\n",
      "+------------+-------------+-------------+-----------+\n",
      "| #predicted |          38 |          90 |       128 |\n",
      "+------------+-------------+-------------+-----------+\n",
      "Confusion matrix class metrics for Off/Def classification: \n",
      "\n",
      "Total accuracy: 0.64\n",
      "+-----------+-------------+----------+---------------+------------+\n",
      "|           |   precision |   recall |   specificity |   F1-score |\n",
      "+===========+=============+==========+===============+============+\n",
      "| Offensive |        0.38 |     0.34 |          0.77 |       0.36 |\n",
      "+-----------+-------------+----------+---------------+------------+\n",
      "| Defensive |        0.73 |     0.77 |          0.34 |       0.75 |\n",
      "+-----------+-------------+----------+---------------+------------+\n",
      "==============  ==============\n",
      "\n",
      "\n"
     ]
    }
   ],
   "source": [
    "for position in position_quantile_mapper:\n",
    "    \n",
    "    print(f\"============== Result position {position} ==============\\n\")\n",
    "\n",
    "    # Filter off def by the set position\n",
    "    df_model_result_pos_i = df_model_result[df_model_result['position'] == position]\n",
    "    \n",
    "    # get players from validation data in this position\n",
    "    list_validation_pos_i_players = df_validation[df_validation['Position'] == position]['Player_name'].tolist()\n",
    "    \n",
    "    # filter to only indlude validation data for correct position\n",
    "    df_model_result_pos_i = df_model_result_pos_i[df_model_result_pos_i['name'].isin(list_validation_pos_i_players)]\n",
    "    \n",
    "    # Compare detected positions to validation data\n",
    "    dict_validation_results_pos = validate.create_validation_dataframes(\n",
    "        df_model_result_pos_i, \"Player_name\", \"name\",\n",
    "        'Playing-style_primary',\n",
    "        'playing style',\n",
    "        position=position,\n",
    "        binary_playing_style=True) # Behöver se över denna\n",
    "    \n",
    "    # Find the resulting dataframe from the dictionary\n",
    "    df_result = dict_validation_results_pos['df_result']\n",
    "    df_correct = dict_validation_results_pos['df_correct']\n",
    "    df_incorrect = dict_validation_results_pos['df_incorrect']\n",
    "    \n",
    "    # Compute and show the confusion matrix with accuracy\n",
    "    print(\"Confusion matrix result Off/Def classification: \\n\")\n",
    "    df_conf = validate.confusion_matrix(df_result, ['Offensive', 'Defensive'], 'predicted_class', 'actual_class', show_results=True)\n",
    "    \n",
    "    # Compute confusion matrix metrics\n",
    "    print(\"Confusion matrix class metrics for Off/Def classification: \\n\")\n",
    "    df_class_metrics_pos = validate.confusion_matrix_class_metrics(df_conf, ['Offensive', 'Defensive'], show_results=True)\n",
    "    \n",
    "    print(\"==============  ==============\\n\\n\")"
   ]
  }
 ],
 "metadata": {
  "interpreter": {
   "hash": "7a6eb6c075b7ad1b2a7f988cdb82497411aecb542d323e465657f9fa9b1dd344"
  },
  "kernelspec": {
   "display_name": "Python 3.8.8 ('base')",
   "language": "python",
   "name": "python3"
  },
  "language_info": {
   "codemirror_mode": {
    "name": "ipython",
    "version": 3
   },
   "file_extension": ".py",
   "mimetype": "text/x-python",
   "name": "python",
   "nbconvert_exporter": "python",
   "pygments_lexer": "ipython3",
   "version": "3.8.8"
  },
  "orig_nbformat": 4
 },
 "nbformat": 4,
 "nbformat_minor": 2
}
