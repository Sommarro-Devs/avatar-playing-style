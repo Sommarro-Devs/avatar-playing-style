{
 "cells": [
  {
   "cell_type": "markdown",
   "metadata": {},
   "source": [
    "# Notebook Model v.2 results vizualisations\n",
    "\n",
    "## Content:\n",
    "1. [Imports](#imports)\n",
    "2. [Read data](#read-data)\n",
    "3. [Modelling](#modelling)\n",
    "4. [GUI Setup](#gui-setup)\n",
    "5. [Single player GUI](#single-player-gui)\n",
    "6. [Player comparison GUI](#player-comparison-gui)\n",
    "\n",
    "\n",
    "## Summary\n"
   ]
  },
  {
   "cell_type": "markdown",
   "metadata": {},
   "source": [
    "## 1. Imports <a class=\"anchor\" id=\"imports\"></a>"
   ]
  },
  {
   "cell_type": "code",
   "execution_count": 1,
   "metadata": {},
   "outputs": [],
   "source": [
    "# Basics\n",
    "import pandas as pd\n",
    "import numpy as np\n",
    "\n",
    "# Project module\n",
    "import modules.viz_lib as viz\n",
    "from modules.models_lib import create_PCA_scores, map_PCA_scores\n",
    "from modules.config import dict_playingStyle_mapper\n",
    "\n",
    "# gui\n",
    "import ipywidgets as widgets\n",
    "\n",
    "# Ignore warnings\n",
    "import warnings\n",
    "warnings.simplefilter(action=\"ignore\")"
   ]
  },
  {
   "cell_type": "markdown",
   "metadata": {},
   "source": [
    "## 2. Read data <a class=\"anchor\" id=\"read-data\"></a>\n",
    "\n",
    "As inputs to the model there is the processed and filtered KPI-data found in the data directory. \n",
    "Note here that positions computed from the position detection model already exists in these imported .xlsx-files."
   ]
  },
  {
   "cell_type": "code",
   "execution_count": 2,
   "metadata": {},
   "outputs": [],
   "source": [
    "# Read model KPI dataframe from PL\n",
    "df_KPI_PL = pd.read_excel('../data/model_kpis_PL21-22.xlsx')\n",
    "\n",
    "# Read model KPI dataframe from Allsvenskan, Sweden\n",
    "df_KPI_Swe = pd.read_excel('../data/model_kpis_Swe21.xlsx')"
   ]
  },
  {
   "cell_type": "markdown",
   "metadata": {},
   "source": [
    "## 3. Modelling <a class=\"anchor\" id=\"modelling\"></a>\n",
    "\n",
    "Use the model presented in model_v2.ipynb and result mapping as in config.py."
   ]
  },
  {
   "cell_type": "code",
   "execution_count": 3,
   "metadata": {},
   "outputs": [],
   "source": [
    "# Get PCA-scores\n",
    "dict_PCA_result = create_PCA_scores(df_KPI_PL, df_KPI_Swe, screeplot=False, nr_of_PCs=6)\n",
    "\n",
    "# Result collecting\n",
    "df_result_weights = dict_PCA_result['result_weights']\n",
    "df_result_PCA_PL = dict_PCA_result['result_train']\n",
    "df_result_PCA_PL_excl = dict_PCA_result['result_excl_train']\n",
    "df_result_PCA_Swe = dict_PCA_result['result_test']\n",
    "df_result_PCA_Swe_excl = dict_PCA_result['result_excl_test']\n",
    "\n",
    "# Map scores to playingstyles\n",
    "df_playing_styles_PL = map_PCA_scores(df_result_PCA_PL, df_result_PCA_PL_excl, dict_mapper=dict_playingStyle_mapper)\n",
    "df_playing_styles_Swe = map_PCA_scores(df_result_PCA_Swe, df_result_PCA_Swe_excl, dict_mapper=dict_playingStyle_mapper)\n",
    "\n",
    "# Call to functions to get quantile scaled playing styles"
   ]
  },
  {
   "cell_type": "markdown",
   "metadata": {},
   "source": [
    "## 4. GUI Setup <a class=\"anchor\" id=\"gui-setup\"></a>\n",
    "\n",
    "Here all the setup for the guis are created. You can also choose here if you want to look at Premier League or Allsvenskan.\n"
   ]
  },
  {
   "cell_type": "markdown",
   "metadata": {},
   "source": [
    "### 4.1 Inputs"
   ]
  },
  {
   "cell_type": "code",
   "execution_count": 4,
   "metadata": {},
   "outputs": [],
   "source": [
    "# Choose league\n",
    "league = \"PL\"\n",
    "league = \"Swe\""
   ]
  },
  {
   "cell_type": "markdown",
   "metadata": {},
   "source": [
    "### 4.2 Variables"
   ]
  },
  {
   "cell_type": "code",
   "execution_count": 5,
   "metadata": {},
   "outputs": [],
   "source": [
    "# Relative path to the Playmaker logo\n",
    "logo_path=\"../figures_used/Playmaker_Logo.png\"\n",
    "\n",
    "# How many playingstyles for each position to include in plot\n",
    "num_position_playingS = {'ST': 0, 'CM': 0, 'OW': 0, 'FB': 0, 'CB': 0}\n",
    "num_position_playingS_comparison = {'ST': 0, 'CM': 0, 'OW': 0, 'FB': 0, 'CB': 0}\n",
    "\n",
    "# Parameterr to use if we want to have the spider as quantile rankings in the league\n",
    "use_ranking_scale = False\n",
    "use_ranking_scale_comparison = False\n",
    "\n",
    "# Find all players\n",
    "list_players_PL = df_playing_styles_PL['name'].unique().tolist()\n",
    "list_players_PL.sort()\n",
    "list_players_Swe = df_playing_styles_Swe['name'].unique().tolist()\n",
    "list_players_Swe.sort()\n",
    "\n",
    "# set variables accordning to chosen league\n",
    "if league == \"Pl\":\n",
    "    list_players = list_players_PL\n",
    "    df_playing_styles = df_playing_styles_PL\n",
    "    df_KPI = df_KPI_PL\n",
    "elif league == \"Swe\":\n",
    "    list_players = list_players_Swe\n",
    "    df_playing_styles = df_playing_styles_Swe\n",
    "    df_KPI = df_KPI_Swe\n",
    "else: \n",
    "    print(\"Not a valid league!\")"
   ]
  },
  {
   "cell_type": "markdown",
   "metadata": {},
   "source": [
    "### 4.3 Gui variables\n",
    "\n",
    "Player lists"
   ]
  },
  {
   "cell_type": "code",
   "execution_count": 6,
   "metadata": {},
   "outputs": [],
   "source": [
    "# Drop down list for single player gui\n",
    "drop_down_player_list = widgets.Dropdown(\n",
    "    options=list_players,\n",
    "    description='Player:',\n",
    "    disabled=False,\n",
    ")\n",
    "\n",
    "# Drop down list for player comparison player 1\n",
    "drop_down_player_list1 = widgets.Dropdown(\n",
    "    options=list_players,\n",
    "    description='Player:',\n",
    "    disabled=False,\n",
    ")\n",
    "\n",
    "# Drop down list for player comparison player 2\n",
    "drop_down_player_list2 = widgets.Dropdown(\n",
    "    options=list_players,\n",
    "    description='Player:',\n",
    "    disabled=False,\n",
    ")"
   ]
  },
  {
   "cell_type": "markdown",
   "metadata": {},
   "source": [
    "Position choices"
   ]
  },
  {
   "cell_type": "code",
   "execution_count": 7,
   "metadata": {},
   "outputs": [],
   "source": [
    "bool_button_ST = widgets.RadioButtons(\n",
    "            options=['Yes', 'No'],\n",
    "            layout={'width': 'max-content'},\n",
    "            value=\"No\",\n",
    "            disabled=False\n",
    "        )\n",
    "\n",
    "bool_box_ST = widgets.Box(\n",
    "    [\n",
    "        widgets.Label(value='Include playing styles for position \"ST\"?'),\n",
    "        bool_button_ST\n",
    "        \n",
    "    ]\n",
    ")\n",
    "\n",
    "bool_button_CM = widgets.RadioButtons(\n",
    "            options=['Yes', 'No'],\n",
    "            layout={'width': 'max-content'},\n",
    "             value=\"No\",\n",
    "            disabled=False\n",
    "        )\n",
    "\n",
    "bool_box_CM = widgets.Box(\n",
    "    [\n",
    "        widgets.Label(value='Include playing styles for position \"CM\"?'),\n",
    "        bool_button_CM\n",
    "    ]\n",
    ")\n",
    "\n",
    "bool_button_OW = widgets.RadioButtons(\n",
    "            options=['Yes', 'No'],\n",
    "            layout={'width': 'max-content'},\n",
    "            value=\"No\",\n",
    "            disabled=False\n",
    "        )\n",
    "\n",
    "bool_box_OW = widgets.Box(\n",
    "    [\n",
    "        widgets.Label(value='Include playing styles for position \"OW\"?'),\n",
    "        bool_button_OW\n",
    "        \n",
    "    ]\n",
    ")\n",
    "\n",
    "bool_button_FB = widgets.RadioButtons(\n",
    "            options=['Yes', 'No'],\n",
    "            layout={'width': 'max-content'},\n",
    "             value=\"No\",\n",
    "            disabled=False\n",
    "        )\n",
    "\n",
    "bool_box_FB = widgets.Box(\n",
    "    [\n",
    "        widgets.Label(value='Include playing styles for position \"FB\"?'),\n",
    "        bool_button_FB\n",
    "    ]\n",
    ")\n",
    "\n",
    "bool_button_CB = widgets.RadioButtons(\n",
    "            options=['Yes', 'No'],\n",
    "            layout={'width': 'max-content'},\n",
    "            disabled=False,\n",
    "            value=\"No\",\n",
    "\n",
    "        )\n",
    "\n",
    "bool_box_CB = widgets.Box(\n",
    "    [\n",
    "        widgets.Label(value='Include playing styles for position \"CB\"?'),\n",
    "        bool_button_CB\n",
    "    ]\n",
    ")"
   ]
  },
  {
   "cell_type": "markdown",
   "metadata": {},
   "source": [
    "Scale choice"
   ]
  },
  {
   "cell_type": "code",
   "execution_count": 8,
   "metadata": {},
   "outputs": [],
   "source": [
    "bool_quantile_scale = widgets.RadioButtons(\n",
    "            options=['Yes', 'No'],\n",
    "            layout={'width': 'max-content'},\n",
    "            disabled=False,\n",
    "            value=\"No\",\n",
    "        )\n",
    "\n",
    "quantile_scale_box = widgets.Box(\n",
    "    [\n",
    "        widgets.Label(value='Use Quantile scale?'),\n",
    "        bool_quantile_scale\n",
    "    ]\n",
    ")"
   ]
  },
  {
   "cell_type": "markdown",
   "metadata": {},
   "source": [
    "Buttons and output"
   ]
  },
  {
   "cell_type": "code",
   "execution_count": 9,
   "metadata": {},
   "outputs": [],
   "source": [
    "single_player_button = widgets.Button(\n",
    "    description='See spider',\n",
    "    disabled=False,\n",
    "    button_style='', \n",
    ")\n",
    "comparison_player_button = widgets.Button(\n",
    "    description='See spider',\n",
    "    disabled=False,\n",
    "    button_style='', \n",
    ")\n",
    "single_player_output = widgets.Output()\n",
    "comparison_player_output = widgets.Output()"
   ]
  },
  {
   "cell_type": "markdown",
   "metadata": {},
   "source": [
    "### 4.4 GUI functions"
   ]
  },
  {
   "cell_type": "code",
   "execution_count": 10,
   "metadata": {},
   "outputs": [],
   "source": [
    "def handle_plot_inputs():\n",
    "    global use_ranking_scale\n",
    "    global num_position_playingS\n",
    "    global bool_button_ST\n",
    "    global bool_button_CM\n",
    "    global bool_box_OW\n",
    "    global bool_button_FB\n",
    "    global bool_button_CB\n",
    "    global bool_quantile_scale\n",
    "\n",
    "    # Handle playing styles for positions \n",
    "    if bool_button_ST.value == 'Yes':\n",
    "        num_position_playingS['ST'] = 4\n",
    "    else: \n",
    "        num_position_playingS['ST'] = 0\n",
    "    if bool_button_CM.value == 'Yes':\n",
    "        num_position_playingS['CM'] = 3\n",
    "    else: \n",
    "        num_position_playingS['CM'] = 0\n",
    "    if bool_button_OW.value == 'Yes':\n",
    "        num_position_playingS['OW'] = 3\n",
    "    else: \n",
    "        num_position_playingS['OW'] = 0\n",
    "    if bool_button_FB.value == 'Yes':\n",
    "        num_position_playingS['FB'] = 3\n",
    "    else: \n",
    "        num_position_playingS['FB'] = 0\n",
    "    if bool_button_CB.value == 'Yes':\n",
    "        num_position_playingS['CB'] = 3\n",
    "    else: \n",
    "        num_position_playingS['CB'] = 0\n",
    "\n",
    "    # Handle scale\n",
    "    if bool_quantile_scale.value == 'Yes':\n",
    "\n",
    "       use_ranking_scale = True\n",
    "\n",
    "       # use quantile scaled playingstyles\n",
    "    else: \n",
    "        use_ranking_scale = False\n",
    "\n",
    "def see_single_player(b):\n",
    "    global num_position_playingS\n",
    "    global use_ranking_scale\n",
    "    global df_playing_styles\n",
    "\n",
    "    player_club = df_KPI.loc[df_KPI['name'] == drop_down_player_list.value]['club'].values[0]\n",
    "    \n",
    "    single_player_output.clear_output()\n",
    "    handle_plot_inputs()\n",
    "    with single_player_output:\n",
    "\n",
    "        if all(value == 0 for value in num_position_playingS.values()):\n",
    "            print(\"Choose some position(s)\")\n",
    "        else:\n",
    "            viz.single_player_notebook_plot(df_playing_styles, drop_down_player_list.value, player_club, num_position_playingS, use_ranking_scale, logo_path)\n",
    "\n",
    "single_player_button.on_click(see_single_player)\n",
    "\n",
    "def compare_players(b):\n",
    "    global num_position_playingS\n",
    "    global use_ranking_scale\n",
    "    global df_playing_styles\n",
    "\n",
    "    player_club1 = df_KPI.loc[df_KPI['name'] == drop_down_player_list.value]['club'].values[0]\n",
    "    player_club2 = df_KPI.loc[df_KPI['name'] == drop_down_player_list.value]['club'].values[0]\n",
    "    \n",
    "    comparison_player_output.clear_output()\n",
    "    handle_plot_inputs()\n",
    "    with comparison_player_output:\n",
    "\n",
    "        if all(value == 0 for value in num_position_playingS.values()):\n",
    "            print(\"Choose some position(s)\")\n",
    "        else:\n",
    "            viz.compare_players_notebook_plot(df_playing_styles, drop_down_player_list1.value,  drop_down_player_list2.value, player_club1, player_club2, num_position_playingS, use_ranking_scale, logo_path)\n",
    "\n",
    "comparison_player_button.on_click(compare_players)"
   ]
  },
  {
   "cell_type": "markdown",
   "metadata": {},
   "source": [
    "## 5. Single player GUI <a class=\"anchor\" id=\"single-player-gui\"></a>\n",
    "\n",
    "Scale dont work at the moment"
   ]
  },
  {
   "cell_type": "code",
   "execution_count": 11,
   "metadata": {},
   "outputs": [
    {
     "data": {
      "application/vnd.jupyter.widget-view+json": {
       "model_id": "20d89195459c45489ff9c28c9ddfbad2",
       "version_major": 2,
       "version_minor": 0
      },
      "text/plain": [
       "HBox(children=(VBox(children=(Dropdown(description='Player:', options=('Abbe Khalili Abbe Khalili', 'Abdelrahm…"
      ]
     },
     "metadata": {},
     "output_type": "display_data"
    }
   ],
   "source": [
    "widgets.HBox([widgets.VBox([drop_down_player_list, bool_box_ST, bool_box_CM, bool_box_OW, bool_box_FB, bool_box_CB, quantile_scale_box, single_player_button]), single_player_output])\n"
   ]
  },
  {
   "cell_type": "markdown",
   "metadata": {},
   "source": [
    "## 6. Player comparison GUI <a class=\"anchor\" id=\"player-comparison-gui\"></a>\n",
    "\n",
    "Scale dont work at the moment"
   ]
  },
  {
   "cell_type": "code",
   "execution_count": 12,
   "metadata": {},
   "outputs": [
    {
     "data": {
      "application/vnd.jupyter.widget-view+json": {
       "model_id": "995b4a3c2bee4ea3857ead2cc8857efe",
       "version_major": 2,
       "version_minor": 0
      },
      "text/plain": [
       "HBox(children=(VBox(children=(Dropdown(description='Player:', options=('Abbe Khalili Abbe Khalili', 'Abdelrahm…"
      ]
     },
     "metadata": {},
     "output_type": "display_data"
    }
   ],
   "source": [
    "widgets.HBox([widgets.VBox([drop_down_player_list1, drop_down_player_list2, bool_box_ST, bool_box_CM, bool_box_OW, bool_box_FB, bool_box_CB, quantile_scale_box, comparison_player_button]), comparison_player_output])\n"
   ]
  }
 ],
 "metadata": {
  "interpreter": {
   "hash": "7a6eb6c075b7ad1b2a7f988cdb82497411aecb542d323e465657f9fa9b1dd344"
  },
  "kernelspec": {
   "display_name": "Python 3.8.8 ('base')",
   "language": "python",
   "name": "python3"
  },
  "language_info": {
   "codemirror_mode": {
    "name": "ipython",
    "version": 3
   },
   "file_extension": ".py",
   "mimetype": "text/x-python",
   "name": "python",
   "nbconvert_exporter": "python",
   "pygments_lexer": "ipython3",
   "version": "3.8.8"
  },
  "orig_nbformat": 4
 },
 "nbformat": 4,
 "nbformat_minor": 2
}
