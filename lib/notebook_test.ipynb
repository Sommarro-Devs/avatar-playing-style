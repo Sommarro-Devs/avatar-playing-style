{
 "cells": [
  {
   "cell_type": "markdown",
   "metadata": {},
   "source": [
    "Intro "
   ]
  },
  {
   "cell_type": "markdown",
   "metadata": {},
   "source": [
    "Imports"
   ]
  },
  {
   "cell_type": "code",
   "execution_count": 4,
   "metadata": {},
   "outputs": [],
   "source": [
    "# Basics\n",
    "import pandas as pd\n",
    "\n",
    "# Project module\n",
    "import modules.validation_lib as validate\n",
    "from modules.config import dict_playingStyle_indices, list_all_playingStyle_indices\n",
    "from modules.models_lib import create_PCA_scores, map_PCA_scores"
   ]
  },
  {
   "cell_type": "markdown",
   "metadata": {},
   "source": [
    "Read Data"
   ]
  },
  {
   "cell_type": "code",
   "execution_count": 5,
   "metadata": {},
   "outputs": [],
   "source": [
    "# Read model KPI dataframe from PL \"train\" data\n",
    "df_KPI_PL = pd.read_excel('../data/model_kpis_PL21-22.xlsx')\n",
    "\n",
    "# Read model KPI dataframe from Allsvenskan (test data)\n",
    "df_KPI_Swe = pd.read_excel('../data/model_kpis_Swe21.xlsx')\n"
   ]
  },
  {
   "cell_type": "markdown",
   "metadata": {},
   "source": [
    "Set variables"
   ]
  },
  {
   "cell_type": "code",
   "execution_count": 6,
   "metadata": {},
   "outputs": [],
   "source": [
    "# Choose position to validate for\n",
    "set_position = 'CB'\n",
    "\n",
    "# Choose league to validate\n",
    "league = 'PL'\n",
    "league = 'Swe'\n",
    "league = 'both'"
   ]
  },
  {
   "cell_type": "markdown",
   "metadata": {},
   "source": [
    "Call to PCA model"
   ]
  },
  {
   "cell_type": "code",
   "execution_count": 7,
   "metadata": {},
   "outputs": [],
   "source": [
    "# get PCA-scores\n",
    "dict_PCA_result = create_PCA_scores(df_KPI_PL, df_KPI_Swe)\n",
    "df_result_PCA_PL = dict_PCA_result['result_train']\n",
    "df_result_PCA_PL_excl = dict_PCA_result['result_excl_train']\n",
    "df_result_PCA_Swe = dict_PCA_result['result_test']\n",
    "df_result_PCA_Swe_excl = dict_PCA_result['result_excl_test']\n",
    "\n",
    "# map scores to playingstyles\n",
    "df_playing_styles_PL = map_PCA_scores(df_result_PCA_PL, df_result_PCA_PL_excl)\n",
    "df_playing_styles_Swe = map_PCA_scores(df_result_PCA_Swe, df_result_PCA_Swe_excl)"
   ]
  },
  {
   "cell_type": "markdown",
   "metadata": {},
   "source": [
    "Handle input (PL or SWE)"
   ]
  },
  {
   "cell_type": "code",
   "execution_count": 8,
   "metadata": {},
   "outputs": [],
   "source": [
    "df_playing_style = pd.DataFrame()\n",
    "if league == 'PL':\n",
    "    df_playing_style = df_playing_styles_PL\n",
    "elif league == 'Swe':\n",
    "    df_playing_style = df_playing_styles_Swe\n",
    "elif league == 'both':\n",
    "    df_playing_style = pd.concat([df_playing_styles_PL, df_playing_styles_Swe])\n",
    "else: \n",
    "    print(\"WRONG INPUT\")"
   ]
  },
  {
   "cell_type": "markdown",
   "metadata": {},
   "source": [
    "Get results in confusion matrix"
   ]
  },
  {
   "cell_type": "code",
   "execution_count": 11,
   "metadata": {},
   "outputs": [
    {
     "name": "stdout",
     "output_type": "stream",
     "text": [
      "Confusion matrix class metrics classification: \n",
      "\n",
      "Accuracy: 0.7\n",
      "+-----+-------------+----------+---------------+------------+\n",
      "|     |   precision |   recall |   specificity |   F1-score |\n",
      "+=====+=============+==========+===============+============+\n",
      "| 5.1 |        0.85 |     0.6  |          0.94 |       0.71 |\n",
      "+-----+-------------+----------+---------------+------------+\n",
      "| 5.2 |        0.88 |     0.59 |          0.97 |       0.71 |\n",
      "+-----+-------------+----------+---------------+------------+\n",
      "| 5.3 |        0.56 |     0.93 |          0.66 |       0.7  |\n",
      "+-----+-------------+----------+---------------+------------+\n"
     ]
    },
    {
     "name": "stderr",
     "output_type": "stream",
     "text": [
      "/Users/emildanielsson/Desktop/Sommarro-Dev/avatar-playing-style/lib/modules/validation_lib.py:187: RuntimeWarning: invalid value encountered in long_scalars\n",
      "  accuracy_k_predicted = round(diagonal_conf[k] / df_conf.loc['#predicted'][k], 2)\n",
      "/Users/emildanielsson/Desktop/Sommarro-Dev/avatar-playing-style/lib/modules/validation_lib.py:189: RuntimeWarning: invalid value encountered in long_scalars\n",
      "  accuracy_k_actual = round(diagonal_conf[k] / df_conf['#actual'][k], 2)\n"
     ]
    }
   ],
   "source": [
    "# Replace to validation index formatting\n",
    "df_playing_style.replace({\"The Target\": 1.1, \"The Poacher\": 1.2, \"The Artist\": 1.3, \"The Worker\": 1.4,\n",
    "                            \"The Box-to-box\": 2.1, \"The Playmaker\": 2.2, \"The Anchor\": 2.3,\n",
    "                            \"The Solo-dribbler\": 3.1, \"The 4-4-2-fielder\": 3.2, \"The Star\": 3.3,\n",
    "                            \"The Winger\": 4.1, \"The Defensive-minded\": 4.2, \"The Inverted\": 4.3,\n",
    "                            \"The Leader\": 5.1, \"The Low-risk-taker\": 5.2, \"The Physical\": 5.3}, inplace = True)\n",
    "\n",
    "# Filter by the set position\n",
    "df_playingS_result_pos = df_playing_style[df_playing_style['Position'] == set_position]\n",
    "\n",
    "# Compare detected positions to validation data\n",
    "dict_validation_results_pos = validate.create_validation_dataframes(\n",
    "    df_playingS_result_pos, \"Player_name\", \"name\",\n",
    "    'Playing-style_primary',\n",
    "    'Playing-style',\n",
    "    position=set_position,\n",
    "    binary_playing_style=False)\n",
    "\n",
    "# Find the resulting dataframe from the dictionary\n",
    "df_result = dict_validation_results_pos['df_result']\n",
    "df_correct = dict_validation_results_pos['df_correct']\n",
    "df_incorrect = dict_validation_results_pos['df_incorrect']\n",
    "\n",
    "# Compute and show the confusion matrix with accuracy\n",
    "df_conf = validate.confusion_matrix(df_result, list_all_playingStyle_indices, 'predicted_class', 'actual_class', show_results=False)\n",
    "\n",
    "# Get specific position \n",
    "validate.drop_conf_matrix_columns(df_conf, set_position)\n",
    "\n",
    "# Compute confusion matrix metrics\n",
    "print(\"Confusion matrix class metrics classification: \\n\")\n",
    "df_class_metrics_pos = validate.confusion_matrix_class_metrics(df_conf, dict_playingStyle_indices[set_position], show_results=True)\n"
   ]
  }
 ],
 "metadata": {
  "interpreter": {
   "hash": "35091b35ceed94cc12f803761b0c4705af72efe3c95c5b5f0735f30ef5faed2f"
  },
  "kernelspec": {
   "display_name": "Python 3.8.9 ('venv': venv)",
   "language": "python",
   "name": "python3"
  },
  "language_info": {
   "codemirror_mode": {
    "name": "ipython",
    "version": 3
   },
   "file_extension": ".py",
   "mimetype": "text/x-python",
   "name": "python",
   "nbconvert_exporter": "python",
   "pygments_lexer": "ipython3",
   "version": "3.8.9"
  },
  "orig_nbformat": 4
 },
 "nbformat": 4,
 "nbformat_minor": 2
}
