{
 "cells": [
  {
   "cell_type": "markdown",
   "metadata": {},
   "source": [
    "# Notebook Position detection\n",
    "\n",
    "## TOC:\n",
    "1. [Imports](#Imports)\n",
    "2. [Read data](#Read_data)\n",
    "3. [Modelling](#Modelling)\n",
    "4. [Model variable choices](#Model_var_choices)\n",
    "5. [Results](#Results)\n",
    "\n",
    "\n",
    "## Summary\n"
   ]
  },
  {
   "cell_type": "markdown",
   "metadata": {},
   "source": []
  }
 ],
 "metadata": {
  "language_info": {
   "name": "python"
  },
  "orig_nbformat": 4
 },
 "nbformat": 4,
 "nbformat_minor": 2
}
